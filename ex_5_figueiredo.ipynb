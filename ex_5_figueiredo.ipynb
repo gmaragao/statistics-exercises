{
  "nbformat": 4,
  "nbformat_minor": 0,
  "metadata": {
    "colab": {
      "name": "ex_5_figueiredo.ipynb",
      "provenance": [],
      "collapsed_sections": [],
      "authorship_tag": "ABX9TyOsEX4HeSFOXxo3rW6j6r9s",
      "include_colab_link": true
    },
    "kernelspec": {
      "name": "python3",
      "display_name": "Python 3"
    },
    "language_info": {
      "name": "python"
    }
  },
  "cells": [
    {
      "cell_type": "markdown",
      "metadata": {
        "id": "view-in-github",
        "colab_type": "text"
      },
      "source": [
        "<a href=\"https://colab.research.google.com/github/gmaragao/statistics-exercises/blob/master/ex_5_figueiredo.ipynb\" target=\"_parent\"><img src=\"https://colab.research.google.com/assets/colab-badge.svg\" alt=\"Open In Colab\"/></a>"
      ]
    },
    {
      "cell_type": "markdown",
      "source": [
        "# Exercício 5 do Livro Estatística Descritiva e Probabilidade - Figueiredo\n"
      ],
      "metadata": {
        "id": "Ib5f8FCZCU3y"
      }
    },
    {
      "cell_type": "code",
      "source": [
        "import numpy as np\n",
        "import matplotlib.pyplot as plt"
      ],
      "metadata": {
        "id": "S0I4iujTDM4x"
      },
      "execution_count": 3,
      "outputs": []
    },
    {
      "cell_type": "code",
      "source": [
        "# Key: People per family - key 10 represents 10 or more people in the family\n",
        "# Value: Families qty\n",
        "num_people_per_family = {\n",
        "    1: 631762,\n",
        "    2: 1036312,\n",
        "    3: 918735,\n",
        "    4: 718492,\n",
        "    5: 226234,\n",
        "    6: 76714,\n",
        "    7: 25390,\n",
        "    8: 9563,\n",
        "    9: 4074,\n",
        "    10: 3841\n",
        "}"
      ],
      "metadata": {
        "id": "avzT0z6rCZ6k"
      },
      "execution_count": 2,
      "outputs": []
    },
    {
      "cell_type": "code",
      "source": [
        "f,ax = plt.subplots(figsize=(18,5))\n",
        "ax.set_ylim(1000, 1100000) # Limits in 1,000 e 1,100,000\n",
        "plt.bar(num_people_per_family.keys(), num_people_per_family.values())\n",
        "plt.title('Families people distribution')\n",
        "plt.ylabel('Families quantity')\n",
        "plt.xlabel('Number of people per family')\n",
        "plt.ticklabel_format(style='plain', axis='y') # Removes cientific notation, without this, the values are shown in 1e6\n"
      ],
      "metadata": {
        "colab": {
          "base_uri": "https://localhost:8080/",
          "height": 350
        },
        "id": "74cUiJHtDW8q",
        "outputId": "7d77a75d-62e4-4e46-f851-4b776ce9a06b"
      },
      "execution_count": null,
      "outputs": [
        {
          "output_type": "display_data",
          "data": {
            "text/plain": [
              "<Figure size 1296x360 with 1 Axes>"
            ],
            "image/png": "[encoded data removed]"
          },
          "metadata": {
            "needs_background": "light"
          }
        }
      ]
    },
    {
      "cell_type": "code",
      "source": [
        ""
      ],
      "metadata": {
        "id": "KMlYst7MDePT"
      },
      "execution_count": null,
      "outputs": []
    },
    {
      "cell_type": "markdown",
      "source": [
        "### Cumulative Frequency"
      ],
      "metadata": {
        "id": "Stv1kLIqEni-"
      }
    },
    {
      "cell_type": "code",
      "source": [
        "people_total = sum(num_people_per_family.values())\n",
        "people_per_family_absolute_frequency_pctg = {\n",
        "    key: (value/people_total)*100 for (key,value) in num_people_per_family.items()\n",
        "}\n",
        "\n",
        "acc = 0\n",
        "cumulative_frequency_pctg = {}\n",
        "cumulative_frequency = {}\n",
        "for p_info_key, p_info_value in people_per_family_absolute_frequency_pctg.items():\n",
        "  acc += p_info_value \n",
        "  cumulative_frequency_pctg[p_info_key] = acc\n",
        "\n",
        "acc = 0\n",
        "for people_qty_in_family, families_qty_with_amount_of_people in num_people_per_family.items():\n",
        "  acc += families_qty_with_amount_of_people \n",
        "  cumulative_frequency[people_qty_in_family] = acc\n",
        "\n",
        "cumulative_frequency"
      ],
      "metadata": {
        "colab": {
          "base_uri": "https://localhost:8080/"
        },
        "id": "OyX1wtAiErlm",
        "outputId": "ef75cf13-366c-4703-d9db-1e5349fb8d01"
      },
      "execution_count": 16,
      "outputs": [
        {
          "output_type": "execute_result",
          "data": {
            "text/plain": [
              "{1: 631762,\n",
              " 2: 1668074,\n",
              " 3: 2586809,\n",
              " 4: 3305301,\n",
              " 5: 3531535,\n",
              " 6: 3608249,\n",
              " 7: 3633639,\n",
              " 8: 3643202,\n",
              " 9: 3647276,\n",
              " 10: 3651117}"
            ]
          },
          "metadata": {},
          "execution_count": 16
        }
      ]
    },
    {
      "cell_type": "code",
      "source": [
        "f,ax = plt.subplots(figsize=(18,5))\n",
        "ax.set_ylim(0, 100) # Limits in 1,000 e 1,100,000\n",
        "plt.bar(cumulative_frequency_pctg.keys(), cumulative_frequency_pctg.values())\n",
        "plt.title('Cumulative frequency')\n",
        "plt.ylabel('Accumulated percentage')\n",
        "plt.xlabel('Number of people per family')\n",
        "plt.ticklabel_format(style='plain', axis='y') # Removes cientific notation, without this, the values are shown in 1e6"
      ],
      "metadata": {
        "colab": {
          "base_uri": "https://localhost:8080/",
          "height": 350
        },
        "id": "HGuX1JFhNpLG",
        "outputId": "04d8e204-0d59-48f8-ecac-3333e886f7dd"
      },
      "execution_count": 14,
      "outputs": [
        {
          "output_type": "display_data",
          "data": {
            "text/plain": [
              "<Figure size 1296x360 with 1 Axes>"
            ],
            "image/png": "[encoded data removed]"
          },
          "metadata": {
            "needs_background": "light"
          }
        }
      ]
    },
    {
      "cell_type": "code",
      "source": [
        "fig, ax = plt.subplots()\n",
        "ax.plot(list(cumulative_frequency.keys()), list(cumulative_frequency.values()))\n",
        "ax.set(xlabel='People per family', ylabel='cumulative frequency %',\n",
        "       title='Cumulative frequency')"
      ],
      "metadata": {
        "colab": {
          "base_uri": "https://localhost:8080/",
          "height": 0
        },
        "id": "J1xyr_JoQsx8",
        "outputId": "dc3d90c8-8aa6-48ae-cbff-25aacb421c53"
      },
      "execution_count": 12,
      "outputs": [
        {
          "output_type": "execute_result",
          "data": {
            "text/plain": [
              "[Text(0, 0.5, 'cumulative frequency %'),\n",
              " Text(0.5, 0, 'People per family'),\n",
              " Text(0.5, 1.0, 'Cumulative frequency')]"
            ]
          },
          "metadata": {},
          "execution_count": 12
        },
        {
          "output_type": "display_data",
          "data": {
            "text/plain": [
              "<Figure size 432x288 with 1 Axes>"
            ],
            "image/png": "[encoded data removed]"
          },
          "metadata": {
            "needs_background": "light"
          }
        }
      ]
    },
    {
      "cell_type": "code",
      "source": [
        ""
      ],
      "metadata": {
        "id": "XAY4xW5URtYK"
      },
      "execution_count": 12,
      "outputs": []
    },
    {
      "cell_type": "markdown",
      "source": [
        "### Dimensions\n",
        "\n",
        "\n"
      ],
      "metadata": {
        "id": "Ez5dyJJdfjWr"
      }
    },
    {
      "cell_type": "code",
      "source": [
        "frequencies_sum = 0\n",
        "for people_qty_in_family, families_qty_with_amount__of_people in num_people_per_family.items():\n",
        "  frequencies_sum  += people_qty_in_family * families_qty_with_amount__of_people \n",
        "mean = frequencies_sum / sum(num_people_per_family.values())"
      ],
      "metadata": {
        "colab": {
          "base_uri": "https://localhost:8080/"
        },
        "id": "FqUIshXufpNb",
        "outputId": "879f19cb-5039-46d2-e013-8ec43d28e8e2"
      },
      "execution_count": 6,
      "outputs": [
        {
          "output_type": "execute_result",
          "data": {
            "text/plain": [
              "2.8088179589972055"
            ]
          },
          "metadata": {},
          "execution_count": 6
        }
      ]
    },
    {
      "cell_type": "code",
      "source": [
        "is_even = sum(num_people_per_family.values()) % 2 == 0\n",
        "index_aux = sum(num_people_per_family.values()) / 2\n",
        "\n",
        "## Need to improve code\n",
        "\n",
        "if not is_even:\n",
        "  frequency_to_find = index_aux\n",
        "  print(index_aux)\n",
        "  for people_qty_in_family, accumulated_frequency in cumulative_frequency.items():\n",
        "    if frequency_to_find < accumulated_frequency:\n",
        "      median = people_qty_in_family\n",
        "      break;\n",
        "else: ## need to be changed -> wrong \n",
        "  index_median_1, index_median_2 = np.floor(index_aux), np.floor(index_aux) + 1\n",
        "  median = (index_median_1 + index_median_2) / 2  \n",
        "\n",
        "median"
      ],
      "metadata": {
        "colab": {
          "base_uri": "https://localhost:8080/"
        },
        "id": "K0t3Ne9ThKsX",
        "outputId": "7f5d98df-a3b7-4c4d-ea69-595dcb2a8b01"
      },
      "execution_count": 23,
      "outputs": [
        {
          "output_type": "stream",
          "name": "stdout",
          "text": [
            "1825558.5\n"
          ]
        },
        {
          "output_type": "execute_result",
          "data": {
            "text/plain": [
              "3"
            ]
          },
          "metadata": {},
          "execution_count": 23
        }
      ]
    },
    {
      "cell_type": "code",
      "source": [
        ""
      ],
      "metadata": {
        "id": "aGKXMGikiaKF"
      },
      "execution_count": null,
      "outputs": []
    }
  ]
}